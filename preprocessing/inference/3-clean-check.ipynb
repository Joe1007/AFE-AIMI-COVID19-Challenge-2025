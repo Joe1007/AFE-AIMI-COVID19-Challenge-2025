{
 "cells": [
  {
   "cell_type": "code",
   "execution_count": 1,
   "metadata": {},
   "outputs": [],
   "source": [
    "import pickle, pandas as pd, numpy as np, os"
   ]
  },
  {
   "cell_type": "code",
   "execution_count": 2,
   "metadata": {},
   "outputs": [],
   "source": [
    "test_pickle = \"/ssd7/ICCV2025_COVID19/processing_test/test_dic1_05.pickle\" \n",
    "with open(test_pickle, 'rb') as f:\n",
    "    test_dic = pickle.load(f)"
   ]
  },
  {
   "cell_type": "code",
   "execution_count": 4,
   "metadata": {},
   "outputs": [
    {
     "name": "stdout",
     "output_type": "stream",
     "text": [
      "========== loading data DataFrame ==========\n"
     ]
    }
   ],
   "source": [
    "test_df = pd.DataFrame(None, columns=['path', 'filename'])\n",
    "\n",
    "print(\"=\"*10, \"loading data DataFrame\", \"=\"*10)\n",
    "\n",
    "for path in list(test_dic.keys()):\n",
    "    image_list = os.listdir(path)\n",
    "    image_list.sort(key=lambda x: int(os.path.splitext(x)[0]))\n",
    "    temp_df = pd.DataFrame([path]*len(image_list), columns=['path'])\n",
    "    temp_df['filename'] = image_list\n",
    "    test_df = pd.concat([test_df, temp_df]) "
   ]
  },
  {
   "cell_type": "code",
   "execution_count": 5,
   "metadata": {},
   "outputs": [
    {
     "name": "stdout",
     "output_type": "stream",
     "text": [
      "1481\n",
      "(305134, 2)\n",
      "(1481, 2)\n"
     ]
    }
   ],
   "source": [
    "import copy\n",
    "cp_test_dic = copy.deepcopy(test_dic)\n",
    "print(len(cp_test_dic))\n",
    "print(test_df.shape)\n",
    "test_df = test_df.drop_duplicates(subset='path')\n",
    "print(test_df.shape)"
   ]
  },
  {
   "cell_type": "code",
   "execution_count": 6,
   "metadata": {},
   "outputs": [],
   "source": [
    "with open('/ssd7/ICCV2025_COVID19/processing_test/filter_slice_test_dic1_05_.pickle', 'wb') as handle:\n",
    "    pickle.dump(cp_test_dic, handle, protocol=pickle.HIGHEST_PROTOCOL)\n",
    "test_df.to_csv(\"/ssd7/ICCV2025_COVID19/processing_test/filter_slice_test_df.csv\", index=False, encoding='utf-8-sig')"
   ]
  }
 ],
 "metadata": {
  "kernelspec": {
   "display_name": "e2d",
   "language": "python",
   "name": "python3"
  },
  "language_info": {
   "codemirror_mode": {
    "name": "ipython",
    "version": 3
   },
   "file_extension": ".py",
   "mimetype": "text/x-python",
   "name": "python",
   "nbconvert_exporter": "python",
   "pygments_lexer": "ipython3",
   "version": "3.8.12"
  },
  "orig_nbformat": 4
 },
 "nbformat": 4,
 "nbformat_minor": 2
}
